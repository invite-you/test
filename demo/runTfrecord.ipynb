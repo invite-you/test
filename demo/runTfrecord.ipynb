{
  "nbformat": 4,
  "nbformat_minor": 0,
  "metadata": {
    "colab": {
      "name": "runTfrecord.ipynb",
      "provenance": [],
      "collapsed_sections": []
    },
    "kernelspec": {
      "name": "python3",
      "display_name": "Python 3"
    },
    "accelerator": "GPU"
  },
  "cells": [
    {
      "cell_type": "code",
      "metadata": {
        "id": "7nMv0Jd3HgOd",
        "colab_type": "code",
        "outputId": "bd2cbe32-dae9-4652-a84e-2d6bdcab893b",
        "colab": {
          "base_uri": "https://localhost:8080/",
          "height": 55
        }
      },
      "source": [
        "from google.colab import drive\n",
        "drive.mount('/content/gdrive')"
      ],
      "execution_count": 0,
      "outputs": [
        {
          "output_type": "stream",
          "text": [
            "Drive already mounted at /content/gdrive; to attempt to forcibly remount, call drive.mount(\"/content/gdrive\", force_remount=True).\n"
          ],
          "name": "stdout"
        }
      ]
    },
    {
      "cell_type": "code",
      "metadata": {
        "id": "V4C8h-xXHpre",
        "colab_type": "code",
        "colab": {}
      },
      "source": [
        ""
      ],
      "execution_count": 0,
      "outputs": []
    },
    {
      "cell_type": "code",
      "metadata": {
        "id": "S_rkRLRQHbzv",
        "colab_type": "code",
        "outputId": "5356af20-f671-441f-af47-078a27792a4f",
        "colab": {
          "base_uri": "https://localhost:8080/",
          "height": 143
        }
      },
      "source": [
        "!git clone https://github.com/invite-you/EfficientDet-1.git"
      ],
      "execution_count": 0,
      "outputs": [
        {
          "output_type": "stream",
          "text": [
            "Cloning into 'EfficientDet-1'...\n",
            "remote: Enumerating objects: 117, done.\u001b[K\n",
            "remote: Counting objects:   0% (1/117)\u001b[K\rremote: Counting objects:   1% (2/117)\u001b[K\rremote: Counting objects:   2% (3/117)\u001b[K\rremote: Counting objects:   3% (4/117)\u001b[K\rremote: Counting objects:   4% (5/117)\u001b[K\rremote: Counting objects:   5% (6/117)\u001b[K\rremote: Counting objects:   6% (8/117)\u001b[K\rremote: Counting objects:   7% (9/117)\u001b[K\rremote: Counting objects:   8% (10/117)\u001b[K\rremote: Counting objects:   9% (11/117)\u001b[K\rremote: Counting objects:  10% (12/117)\u001b[K\rremote: Counting objects:  11% (13/117)\u001b[K\rremote: Counting objects:  12% (15/117)\u001b[K\rremote: Counting objects:  13% (16/117)\u001b[K\rremote: Counting objects:  14% (17/117)\u001b[K\rremote: Counting objects:  15% (18/117)\u001b[K\rremote: Counting objects:  16% (19/117)\u001b[K\rremote: Counting objects:  17% (20/117)\u001b[K\rremote: Counting objects:  18% (22/117)\u001b[K\rremote: Counting objects:  19% (23/117)\u001b[K\rremote: Counting objects:  20% (24/117)\u001b[K\rremote: Counting objects:  21% (25/117)\u001b[K\rremote: Counting objects:  22% (26/117)\u001b[K\rremote: Counting objects:  23% (27/117)\u001b[K\rremote: Counting objects:  24% (29/117)\u001b[K\rremote: Counting objects:  25% (30/117)\u001b[K\rremote: Counting objects:  26% (31/117)\u001b[K\rremote: Counting objects:  27% (32/117)\u001b[K\rremote: Counting objects:  28% (33/117)\u001b[K\rremote: Counting objects:  29% (34/117)\u001b[K\rremote: Counting objects:  30% (36/117)\u001b[K\rremote: Counting objects:  31% (37/117)\u001b[K\rremote: Counting objects:  32% (38/117)\u001b[K\rremote: Counting objects:  33% (39/117)\u001b[K\rremote: Counting objects:  34% (40/117)\u001b[K\rremote: Counting objects:  35% (41/117)\u001b[K\rremote: Counting objects:  36% (43/117)\u001b[K\rremote: Counting objects:  37% (44/117)\u001b[K\rremote: Counting objects:  38% (45/117)\u001b[K\rremote: Counting objects:  39% (46/117)\u001b[K\rremote: Counting objects:  40% (47/117)\u001b[K\rremote: Counting objects:  41% (48/117)\u001b[K\rremote: Counting objects:  42% (50/117)\u001b[K\rremote: Counting objects:  43% (51/117)\u001b[K\rremote: Counting objects:  44% (52/117)\u001b[K\rremote: Counting objects:  45% (53/117)\u001b[K\rremote: Counting objects:  46% (54/117)\u001b[K\rremote: Counting objects:  47% (55/117)\u001b[K\rremote: Counting objects:  48% (57/117)\u001b[K\rremote: Counting objects:  49% (58/117)\u001b[K\rremote: Counting objects:  50% (59/117)\u001b[K\rremote: Counting objects:  51% (60/117)\u001b[K\rremote: Counting objects:  52% (61/117)\u001b[K\rremote: Counting objects:  53% (63/117)\u001b[K\rremote: Counting objects:  54% (64/117)\u001b[K\rremote: Counting objects:  55% (65/117)\u001b[K\rremote: Counting objects:  56% (66/117)\u001b[K\rremote: Counting objects:  57% (67/117)\u001b[K\rremote: Counting objects:  58% (68/117)\u001b[K\rremote: Counting objects:  59% (70/117)\u001b[K\rremote: Counting objects:  60% (71/117)\u001b[K\rremote: Counting objects:  61% (72/117)\u001b[K\rremote: Counting objects:  62% (73/117)\u001b[K\rremote: Counting objects:  63% (74/117)\u001b[K\rremote: Counting objects:  64% (75/117)\u001b[K\rremote: Counting objects:  65% (77/117)\u001b[K\rremote: Counting objects:  66% (78/117)\u001b[K\rremote: Counting objects:  67% (79/117)\u001b[K\rremote: Counting objects:  68% (80/117)\u001b[K\rremote: Counting objects:  69% (81/117)\u001b[K\rremote: Counting objects:  70% (82/117)\u001b[K\rremote: Counting objects:  71% (84/117)\u001b[K\rremote: Counting objects:  72% (85/117)\u001b[K\rremote: Counting objects:  73% (86/117)\u001b[K\rremote: Counting objects:  74% (87/117)\u001b[K\rremote: Counting objects:  75% (88/117)\u001b[K\rremote: Counting objects:  76% (89/117)\u001b[K\rremote: Counting objects:  77% (91/117)\u001b[K\rremote: Counting objects:  78% (92/117)\u001b[K\rremote: Counting objects:  79% (93/117)\u001b[K\rremote: Counting objects:  80% (94/117)\u001b[K\rremote: Counting objects:  81% (95/117)\u001b[K\rremote: Counting objects:  82% (96/117)\u001b[K\rremote: Counting objects:  83% (98/117)\u001b[K\rremote: Counting objects:  84% (99/117)\u001b[K\rremote: Counting objects:  85% (100/117)\u001b[K\rremote: Counting objects:  86% (101/117)\u001b[K\rremote: Counting objects:  87% (102/117)\u001b[K\rremote: Counting objects:  88% (103/117)\u001b[K\rremote: Counting objects:  89% (105/117)\u001b[K\rremote: Counting objects:  90% (106/117)\u001b[K\rremote: Counting objects:  91% (107/117)\u001b[K\rremote: Counting objects:  92% (108/117)\u001b[K\rremote: Counting objects:  93% (109/117)\u001b[K\rremote: Counting objects:  94% (110/117)\u001b[K\rremote: Counting objects:  95% (112/117)\u001b[K\rremote: Counting objects:  96% (113/117)\u001b[K\rremote: Counting objects:  97% (114/117)\u001b[K\rremote: Counting objects:  98% (115/117)\u001b[K\rremote: Counting objects:  99% (116/117)\u001b[K\rremote: Counting objects: 100% (117/117)\u001b[K\rremote: Counting objects: 100% (117/117), done.\u001b[K\n",
            "remote: Compressing objects:   0% (1/117)\u001b[K\rremote: Compressing objects:   1% (2/117)\u001b[K\rremote: Compressing objects:   2% (3/117)\u001b[K\rremote: Compressing objects:   3% (4/117)\u001b[K\rremote: Compressing objects:   4% (5/117)\u001b[K\rremote: Compressing objects:   5% (6/117)\u001b[K\rremote: Compressing objects:   6% (8/117)\u001b[K\rremote: Compressing objects:   7% (9/117)\u001b[K\rremote: Compressing objects:   8% (10/117)\u001b[K\rremote: Compressing objects:   9% (11/117)\u001b[K\rremote: Compressing objects:  10% (12/117)\u001b[K\rremote: Compressing objects:  11% (13/117)\u001b[K\rremote: Compressing objects:  12% (15/117)\u001b[K\rremote: Compressing objects:  13% (16/117)\u001b[K\rremote: Compressing objects:  14% (17/117)\u001b[K\rremote: Compressing objects:  15% (18/117)\u001b[K\rremote: Compressing objects:  16% (19/117)\u001b[K\rremote: Compressing objects:  17% (20/117)\u001b[K\rremote: Compressing objects:  18% (22/117)\u001b[K\rremote: Compressing objects:  19% (23/117)\u001b[K\rremote: Compressing objects:  20% (24/117)\u001b[K\rremote: Compressing objects:  21% (25/117)\u001b[K\rremote: Compressing objects:  22% (26/117)\u001b[K\rremote: Compressing objects:  23% (27/117)\u001b[K\rremote: Compressing objects:  24% (29/117)\u001b[K\rremote: Compressing objects:  25% (30/117)\u001b[K\rremote: Compressing objects:  26% (31/117)\u001b[K\rremote: Compressing objects:  27% (32/117)\u001b[K\rremote: Compressing objects:  28% (33/117)\u001b[K\rremote: Compressing objects:  29% (34/117)\u001b[K\rremote: Compressing objects:  30% (36/117)\u001b[K\rremote: Compressing objects:  31% (37/117)\u001b[K\rremote: Compressing objects:  32% (38/117)\u001b[K\rremote: Compressing objects:  33% (39/117)\u001b[K\rremote: Compressing objects:  34% (40/117)\u001b[K\rremote: Compressing objects:  35% (41/117)\u001b[K\rremote: Compressing objects:  36% (43/117)\u001b[K\rremote: Compressing objects:  37% (44/117)\u001b[K\rremote: Compressing objects:  38% (45/117)\u001b[K\rremote: Compressing objects:  39% (46/117)\u001b[K\rremote: Compressing objects:  40% (47/117)\u001b[K\rremote: Compressing objects:  41% (48/117)\u001b[K\rremote: Compressing objects:  42% (50/117)\u001b[K\rremote: Compressing objects:  43% (51/117)\u001b[K\rremote: Compressing objects:  44% (52/117)\u001b[K\rremote: Compressing objects:  45% (53/117)\u001b[K\rremote: Compressing objects:  46% (54/117)\u001b[K\rremote: Compressing objects:  47% (55/117)\u001b[K\rremote: Compressing objects:  48% (57/117)\u001b[K\rremote: Compressing objects:  49% (58/117)\u001b[K\rremote: Compressing objects:  50% (59/117)\u001b[K\rremote: Compressing objects:  51% (60/117)\u001b[K\rremote: Compressing objects:  52% (61/117)\u001b[K\rremote: Compressing objects:  53% (63/117)\u001b[K\rremote: Compressing objects:  54% (64/117)\u001b[K\rremote: Compressing objects:  55% (65/117)\u001b[K\rremote: Compressing objects:  56% (66/117)\u001b[K\rremote: Compressing objects:  57% (67/117)\u001b[K\rremote: Compressing objects:  58% (68/117)\u001b[K\rremote: Compressing objects:  59% (70/117)\u001b[K\rremote: Compressing objects:  60% (71/117)\u001b[K\rremote: Compressing objects:  61% (72/117)\u001b[K\rremote: Compressing objects:  62% (73/117)\u001b[K\rremote: Compressing objects:  63% (74/117)\u001b[K\rremote: Compressing objects:  64% (75/117)\u001b[K\rremote: Compressing objects:  65% (77/117)\u001b[K\rremote: Compressing objects:  66% (78/117)\u001b[K\rremote: Compressing objects:  67% (79/117)\u001b[K\rremote: Compressing objects:  68% (80/117)\u001b[K\rremote: Compressing objects:  69% (81/117)\u001b[K\rremote: Compressing objects:  70% (82/117)\u001b[K\rremote: Compressing objects:  71% (84/117)\u001b[K\rremote: Compressing objects:  72% (85/117)\u001b[K\rremote: Compressing objects:  73% (86/117)\u001b[K\rremote: Compressing objects:  74% (87/117)\u001b[K\rremote: Compressing objects:  75% (88/117)\u001b[K\rremote: Compressing objects:  76% (89/117)\u001b[K\rremote: Compressing objects:  77% (91/117)\u001b[K\rremote: Compressing objects:  78% (92/117)\u001b[K\rremote: Compressing objects:  79% (93/117)\u001b[K\rremote: Compressing objects:  80% (94/117)\u001b[K\rremote: Compressing objects:  81% (95/117)\u001b[K\rremote: Compressing objects:  82% (96/117)\u001b[K\rremote: Compressing objects:  83% (98/117)\u001b[K\rremote: Compressing objects:  84% (99/117)\u001b[K\rremote: Compressing objects:  85% (100/117)\u001b[K\rremote: Compressing objects:  86% (101/117)\u001b[K\rremote: Compressing objects:  87% (102/117)\u001b[K\rremote: Compressing objects:  88% (103/117)\u001b[K\rremote: Compressing objects:  89% (105/117)\u001b[K\rremote: Compressing objects:  90% (106/117)\u001b[K\rremote: Compressing objects:  91% (107/117)\u001b[K\rremote: Compressing objects:  92% (108/117)\u001b[K\rremote: Compressing objects:  93% (109/117)\u001b[K\rremote: Compressing objects:  94% (110/117)\u001b[K\rremote: Compressing objects:  95% (112/117)\u001b[K\rremote: Compressing objects:  96% (113/117)\u001b[K\rremote: Compressing objects:  97% (114/117)\u001b[K\rremote: Compressing objects:  98% (115/117)\u001b[K\rremote: Compressing objects:  99% (116/117)\u001b[K\rremote: Compressing objects: 100% (117/117)\u001b[K\rremote: Compressing objects: 100% (117/117), done.\u001b[K\n",
            "Receiving objects:   0% (1/390)   \rReceiving objects:   1% (4/390)   \rReceiving objects:   2% (8/390)   \rReceiving objects:   3% (12/390)   \rReceiving objects:   4% (16/390)   \rReceiving objects:   5% (20/390)   \rReceiving objects:   6% (24/390)   \rReceiving objects:   7% (28/390)   \rReceiving objects:   8% (32/390)   \rReceiving objects:   9% (36/390)   \rReceiving objects:  10% (39/390)   \rReceiving objects:  11% (43/390)   \rReceiving objects:  12% (47/390)   \rReceiving objects:  13% (51/390)   \rReceiving objects:  14% (55/390)   \rReceiving objects:  15% (59/390)   \rReceiving objects:  16% (63/390)   \rReceiving objects:  17% (67/390)   \rReceiving objects:  18% (71/390)   \rReceiving objects:  19% (75/390)   \rReceiving objects:  20% (78/390)   \rReceiving objects:  21% (82/390)   \rReceiving objects:  22% (86/390)   \rReceiving objects:  23% (90/390)   \rReceiving objects:  24% (94/390)   \rReceiving objects:  25% (98/390)   \rReceiving objects:  26% (102/390)   \rReceiving objects:  27% (106/390)   \rReceiving objects:  28% (110/390)   \rReceiving objects:  29% (114/390)   \rReceiving objects:  30% (117/390)   \rReceiving objects:  31% (121/390)   \rReceiving objects:  32% (125/390)   \rReceiving objects:  33% (129/390)   \rReceiving objects:  34% (133/390)   \rReceiving objects:  35% (137/390)   \rReceiving objects:  36% (141/390)   \rReceiving objects:  37% (145/390)   \rReceiving objects:  38% (149/390)   \rReceiving objects:  39% (153/390)   \rReceiving objects:  40% (156/390)   \rReceiving objects:  41% (160/390)   \rReceiving objects:  42% (164/390)   \rReceiving objects:  43% (168/390)   \rReceiving objects:  44% (172/390)   \rReceiving objects:  45% (176/390)   \rReceiving objects:  46% (180/390)   \rReceiving objects:  47% (184/390)   \rReceiving objects:  48% (188/390)   \rReceiving objects:  49% (192/390)   \rReceiving objects:  50% (195/390)   \rReceiving objects:  51% (199/390)   \rReceiving objects:  52% (203/390)   \rReceiving objects:  53% (207/390)   \rReceiving objects:  54% (211/390)   \rReceiving objects:  55% (215/390)   \rReceiving objects:  56% (219/390)   \rReceiving objects:  57% (223/390)   \rReceiving objects:  58% (227/390)   \rReceiving objects:  59% (231/390)   \rReceiving objects:  60% (234/390)   \rReceiving objects:  61% (238/390)   \rReceiving objects:  62% (242/390)   \rReceiving objects:  63% (246/390)   \rReceiving objects:  64% (250/390)   \rReceiving objects:  65% (254/390)   \rReceiving objects:  66% (258/390)   \rReceiving objects:  67% (262/390)   \rReceiving objects:  68% (266/390)   \rReceiving objects:  69% (270/390)   \rReceiving objects:  70% (273/390)   \rremote: Total 390 (delta 80), reused 0 (delta 0), pack-reused 273\u001b[K\n",
            "Receiving objects:  71% (277/390)   \rReceiving objects:  72% (281/390)   \rReceiving objects:  73% (285/390)   \rReceiving objects:  74% (289/390)   \rReceiving objects:  75% (293/390)   \rReceiving objects:  76% (297/390)   \rReceiving objects:  77% (301/390)   \rReceiving objects:  78% (305/390)   \rReceiving objects:  79% (309/390)   \rReceiving objects:  80% (312/390)   \rReceiving objects:  81% (316/390)   \rReceiving objects:  82% (320/390)   \rReceiving objects:  83% (324/390)   \rReceiving objects:  84% (328/390)   \rReceiving objects:  85% (332/390)   \rReceiving objects:  86% (336/390)   \rReceiving objects:  87% (340/390)   \rReceiving objects:  88% (344/390)   \rReceiving objects:  89% (348/390)   \rReceiving objects:  90% (351/390)   \rReceiving objects:  91% (355/390)   \rReceiving objects:  92% (359/390)   \rReceiving objects:  93% (363/390)   \rReceiving objects:  94% (367/390)   \rReceiving objects:  95% (371/390)   \rReceiving objects:  96% (375/390)   \rReceiving objects:  97% (379/390)   \rReceiving objects:  98% (383/390)   \rReceiving objects:  99% (387/390)   \rReceiving objects: 100% (390/390)   \rReceiving objects: 100% (390/390), 510.50 KiB | 10.21 MiB/s, done.\n",
            "Resolving deltas:   0% (0/244)   \rResolving deltas:   1% (3/244)   \rResolving deltas:   2% (5/244)   \rResolving deltas:   3% (8/244)   \rResolving deltas:   5% (13/244)   \rResolving deltas:   6% (16/244)   \rResolving deltas:   7% (18/244)   \rResolving deltas:   8% (21/244)   \rResolving deltas:   9% (22/244)   \rResolving deltas:  11% (27/244)   \rResolving deltas:  12% (30/244)   \rResolving deltas:  13% (32/244)   \rResolving deltas:  14% (35/244)   \rResolving deltas:  16% (41/244)   \rResolving deltas:  17% (43/244)   \rResolving deltas:  21% (52/244)   \rResolving deltas:  25% (62/244)   \rResolving deltas:  26% (64/244)   \rResolving deltas:  38% (94/244)   \rResolving deltas:  46% (114/244)   \rResolving deltas:  47% (117/244)   \rResolving deltas:  49% (120/244)   \rResolving deltas:  61% (150/244)   \rResolving deltas:  75% (184/244)   \rResolving deltas:  84% (206/244)   \rResolving deltas:  91% (223/244)   \rResolving deltas:  99% (242/244)   \rResolving deltas: 100% (244/244)   \rResolving deltas: 100% (244/244), done.\n"
          ],
          "name": "stdout"
        }
      ]
    },
    {
      "cell_type": "code",
      "metadata": {
        "id": "XY98gcVIHvwR",
        "colab_type": "code",
        "outputId": "ecdd9e4e-2a1e-44f5-c085-9d2b0eb9d50b",
        "colab": {
          "base_uri": "https://localhost:8080/",
          "height": 35
        }
      },
      "source": [
        "cd /content/EfficientDet-1"
      ],
      "execution_count": 0,
      "outputs": [
        {
          "output_type": "stream",
          "text": [
            "/content/EfficientDet-1\n"
          ],
          "name": "stdout"
        }
      ]
    },
    {
      "cell_type": "code",
      "metadata": {
        "id": "IM3R5od8IHTK",
        "colab_type": "code",
        "outputId": "888b0a49-d0f9-41ee-bf81-a1d0ef0ef6a8",
        "colab": {
          "base_uri": "https://localhost:8080/",
          "height": 35
        }
      },
      "source": [
        "!git pull origin master"
      ],
      "execution_count": 0,
      "outputs": [
        {
          "output_type": "stream",
          "text": [
            "fatal: not a git repository (or any of the parent directories): .git\n"
          ],
          "name": "stdout"
        }
      ]
    },
    {
      "cell_type": "code",
      "metadata": {
        "id": "627OT15JH6g6",
        "colab_type": "code",
        "outputId": "68c45677-4619-44e9-fa3f-52069ed83af0",
        "colab": {
          "base_uri": "https://localhost:8080/",
          "height": 89
        }
      },
      "source": [
        "!ls -alt \"/content/gdrive/My Drive/findShip/tfrecords/\""
      ],
      "execution_count": 0,
      "outputs": [
        {
          "output_type": "stream",
          "text": [
            "total 9215434\n",
            "-rw------- 1 root root          0 Jan 29 01:34 train_40p_w_img.tfrecords\n",
            "-rw------- 1 root root 8052214784 Jan 28 13:50 test_40p_w_img.tfrecords\n",
            "-rw------- 1 root root 1384388826 Jan 23 00:20 test_40p_w_neg_img_only_pos.tfrecords\n"
          ],
          "name": "stdout"
        }
      ]
    },
    {
      "cell_type": "code",
      "metadata": {
        "id": "PaAXZwjh3wY5",
        "colab_type": "code",
        "colab": {}
      },
      "source": [
        "import os\n",
        "os.environ['LD_LIBRARY_PATH'] = '/usr/local/cuda/extras/CUPTI/lib64' + ':' + os.environ['LD_LIBRARY_PATH']"
      ],
      "execution_count": 0,
      "outputs": []
    },
    {
      "cell_type": "code",
      "metadata": {
        "id": "8b6kIHN4uMGE",
        "colab_type": "code",
        "outputId": "73b45ecb-0ce2-45c9-c1ef-47581f2b58f1",
        "colab": {
          "base_uri": "https://localhost:8080/",
          "height": 308
        }
      },
      "source": [
        "!pip install -U pillow"
      ],
      "execution_count": 0,
      "outputs": [
        {
          "output_type": "stream",
          "text": [
            "\u001b[33mWARNING: Skipping PIL as it is not installed.\u001b[0m\n",
            "Collecting pillow\n",
            "\u001b[?25l  Downloading https://files.pythonhosted.org/packages/19/5e/23dcc0ce3cc2abe92efd3cd61d764bee6ccdf1b667a1fb566f45dc249953/Pillow-7.0.0-cp36-cp36m-manylinux1_x86_64.whl (2.1MB)\n",
            "\u001b[K     |████████████████████████████████| 2.1MB 4.5MB/s \n",
            "\u001b[31mERROR: albumentations 0.1.12 has requirement imgaug<0.2.7,>=0.2.5, but you'll have imgaug 0.2.9 which is incompatible.\u001b[0m\n",
            "\u001b[?25hInstalling collected packages: pillow\n",
            "  Found existing installation: Pillow 6.2.2\n",
            "    Uninstalling Pillow-6.2.2:\n",
            "      Successfully uninstalled Pillow-6.2.2\n",
            "Successfully installed pillow-7.0.0\n"
          ],
          "name": "stdout"
        },
        {
          "output_type": "display_data",
          "data": {
            "application/vnd.colab-display-data+json": {
              "pip_warning": {
                "packages": [
                  "PIL"
                ]
              }
            }
          },
          "metadata": {
            "tags": []
          }
        }
      ]
    },
    {
      "cell_type": "code",
      "metadata": {
        "id": "-r4JeqAJHy9W",
        "colab_type": "code",
        "colab": {}
      },
      "source": [
        "!python train.py --phi 2 --steps 100 --epochs 2 --snapshot imagenet --workers 600 --batch-size 4 --random-transform --compute-val-loss --freeze-backbone --snapshot-path \"/content/gdrive/My Drive/findShip/models\" tfrecord \"/content/gdrive/My Drive/findShip/tfrecords/test_40p_w_img.tfrecords\" --val-annotations-path \"/content/gdrive/My Drive/findShip/tfrecords/test_40p_w_neg_img_only_pos.tfrecords\""
      ],
      "execution_count": 0,
      "outputs": []
    },
    {
      "cell_type": "code",
      "metadata": {
        "id": "oRWPn85BDoYU",
        "colab_type": "code",
        "outputId": "68c2ae4d-c4c0-42f0-d62d-0090791994df",
        "colab": {
          "base_uri": "https://localhost:8080/",
          "height": 786
        }
      },
      "source": [
        "!python train.py --phi 4  --steps 2 --epochs 2 --snapshot imagenet --workers 300 --batch-size 4 --random-transform --compute-val-loss --freeze-backbone --snapshot-path \"/content/gdrive/My Drive/findShip/models\" pickle \"/content/gdrive/My Drive/findShip/train.pickle\" --val-annotations-path \"/content/gdrive/My Drive/findShip/test.pickle\""
      ],
      "execution_count": 0,
      "outputs": [
        {
          "output_type": "stream",
          "text": [
            "{'dataset_type': 'pickle', 'snapshot': 'imagenet', 'freeze_backbone': True, 'freeze_bn': False, 'weighted_bifpn': False, 'batch_size': 4, 'phi': 4, 'gpu': None, 'num_gpus': 0, 'multi_gpu_force': False, 'epochs': 2, 'steps': 2, 'snapshot_path': '/content/gdrive/My Drive/findShip/models', 'tensorboard_dir': 'logs/2020-01-31', 'snapshots': True, 'evaluation': True, 'random_transform': True, 'compute_val_loss': True, 'multiprocessing': False, 'workers': 300, 'max_queue_size': 10, 'annotations_path': '/content/gdrive/My Drive/findShip/train.pickle', 'val_annotations_path': '/content/gdrive/My Drive/findShip/test.pickle'}\n",
            "WARNING:tensorflow:From train.py:356: The name tf.keras.backend.set_session is deprecated. Please use tf.compat.v1.keras.backend.set_session instead.\n",
            "\n",
            "WARNING:tensorflow:From train.py:54: The name tf.ConfigProto is deprecated. Please use tf.compat.v1.ConfigProto instead.\n",
            "\n",
            "WARNING:tensorflow:From train.py:56: The name tf.Session is deprecated. Please use tf.compat.v1.Session instead.\n",
            "\n",
            "2020-01-31 08:35:45.297610: I tensorflow/core/platform/profile_utils/cpu_utils.cc:94] CPU Frequency: 2300000000 Hz\n",
            "2020-01-31 08:35:45.297893: I tensorflow/compiler/xla/service/service.cc:168] XLA service 0x243abc0 initialized for platform Host (this does not guarantee that XLA will be used). Devices:\n",
            "2020-01-31 08:35:45.297926: I tensorflow/compiler/xla/service/service.cc:176]   StreamExecutor device (0): Host, Default Version\n",
            "2020-01-31 08:35:45.299860: I tensorflow/stream_executor/platform/default/dso_loader.cc:44] Successfully opened dynamic library libcuda.so.1\n",
            "2020-01-31 08:35:45.451734: I tensorflow/stream_executor/cuda/cuda_gpu_executor.cc:983] successful NUMA node read from SysFS had negative value (-1), but there must be at least one NUMA node, so returning NUMA node zero\n",
            "2020-01-31 08:35:45.452466: I tensorflow/compiler/xla/service/service.cc:168] XLA service 0x243ad80 initialized for platform CUDA (this does not guarantee that XLA will be used). Devices:\n",
            "2020-01-31 08:35:45.452502: I tensorflow/compiler/xla/service/service.cc:176]   StreamExecutor device (0): Tesla T4, Compute Capability 7.5\n",
            "2020-01-31 08:35:45.452740: I tensorflow/stream_executor/cuda/cuda_gpu_executor.cc:983] successful NUMA node read from SysFS had negative value (-1), but there must be at least one NUMA node, so returning NUMA node zero\n",
            "2020-01-31 08:35:45.453357: I tensorflow/core/common_runtime/gpu/gpu_device.cc:1618] Found device 0 with properties: \n",
            "name: Tesla T4 major: 7 minor: 5 memoryClockRate(GHz): 1.59\n",
            "pciBusID: 0000:00:04.0\n",
            "2020-01-31 08:35:45.453675: I tensorflow/stream_executor/platform/default/dso_loader.cc:44] Successfully opened dynamic library libcudart.so.10.1\n",
            "2020-01-31 08:35:45.455064: I tensorflow/stream_executor/platform/default/dso_loader.cc:44] Successfully opened dynamic library libcublas.so.10\n",
            "2020-01-31 08:35:45.456488: I tensorflow/stream_executor/platform/default/dso_loader.cc:44] Successfully opened dynamic library libcufft.so.10\n",
            "2020-01-31 08:35:45.456825: I tensorflow/stream_executor/platform/default/dso_loader.cc:44] Successfully opened dynamic library libcurand.so.10\n",
            "2020-01-31 08:35:45.458257: I tensorflow/stream_executor/platform/default/dso_loader.cc:44] Successfully opened dynamic library libcusolver.so.10\n",
            "2020-01-31 08:35:45.458908: I tensorflow/stream_executor/platform/default/dso_loader.cc:44] Successfully opened dynamic library libcusparse.so.10\n",
            "2020-01-31 08:35:45.461704: I tensorflow/stream_executor/platform/default/dso_loader.cc:44] Successfully opened dynamic library libcudnn.so.7\n",
            "2020-01-31 08:35:45.461845: I tensorflow/stream_executor/cuda/cuda_gpu_executor.cc:983] successful NUMA node read from SysFS had negative value (-1), but there must be at least one NUMA node, so returning NUMA node zero\n",
            "2020-01-31 08:35:45.462407: I tensorflow/stream_executor/cuda/cuda_gpu_executor.cc:983] successful NUMA node read from SysFS had negative value (-1), but there must be at least one NUMA node, so returning NUMA node zero\n",
            "2020-01-31 08:35:45.462879: I tensorflow/core/common_runtime/gpu/gpu_device.cc:1746] Adding visible gpu devices: 0\n",
            "2020-01-31 08:35:45.462931: I tensorflow/stream_executor/platform/default/dso_loader.cc:44] Successfully opened dynamic library libcudart.so.10.1\n",
            "2020-01-31 08:35:45.463890: I tensorflow/core/common_runtime/gpu/gpu_device.cc:1159] Device interconnect StreamExecutor with strength 1 edge matrix:\n",
            "2020-01-31 08:35:45.463911: I tensorflow/core/common_runtime/gpu/gpu_device.cc:1165]      0 \n",
            "2020-01-31 08:35:45.463921: I tensorflow/core/common_runtime/gpu/gpu_device.cc:1178] 0:   N \n",
            "2020-01-31 08:35:45.464027: I tensorflow/stream_executor/cuda/cuda_gpu_executor.cc:983] successful NUMA node read from SysFS had negative value (-1), but there must be at least one NUMA node, so returning NUMA node zero\n",
            "2020-01-31 08:35:45.464531: I tensorflow/stream_executor/cuda/cuda_gpu_executor.cc:983] successful NUMA node read from SysFS had negative value (-1), but there must be at least one NUMA node, so returning NUMA node zero\n",
            "2020-01-31 08:35:45.465028: I tensorflow/core/common_runtime/gpu/gpu_device.cc:1304] Created TensorFlow device (/job:localhost/replica:0/task:0/device:GPU:0 with 14221 MB memory) -> physical GPU (device: 0, name: Tesla T4, pci bus id: 0000:00:04.0, compute capability: 7.5)\n",
            "Namespace(annotations_path='/content/gdrive/My Drive/findShip/train.pickle', batch_size=4, compute_val_loss=True, dataset_type='pickle', epochs=2, evaluation=True, freeze_backbone=True, freeze_bn=False, gpu=None, max_queue_size=10, multi_gpu_force=False, multiprocessing=False, num_gpus=0, phi=4, random_transform=True, snapshot='imagenet', snapshot_path='/content/gdrive/My Drive/findShip/models', snapshots=True, steps=2, tensorboard_dir='logs/2020-01-31', val_annotations_path='/content/gdrive/My Drive/findShip/test.pickle', weighted_bifpn=False, workers=300)\n",
            "What??? small image\n",
            "What??? small image\n",
            "What??? small image\n",
            "What??? small image\n"
          ],
          "name": "stdout"
        }
      ]
    },
    {
      "cell_type": "markdown",
      "metadata": {
        "id": "M8lhoQBbQGkP",
        "colab_type": "text"
      },
      "source": [
        "# 진짜루 돌릴 때"
      ]
    },
    {
      "cell_type": "code",
      "metadata": {
        "id": "CGGriGbm7x1g",
        "colab_type": "code",
        "outputId": "35ebc06c-7397-4a74-9701-1cd83f93bcae",
        "colab": {
          "base_uri": "https://localhost:8080/",
          "height": 35
        }
      },
      "source": [
        "cd /content"
      ],
      "execution_count": 0,
      "outputs": [
        {
          "output_type": "stream",
          "text": [
            "/content\n"
          ],
          "name": "stdout"
        }
      ]
    },
    {
      "cell_type": "code",
      "metadata": {
        "id": "IRKTfYil7zMX",
        "colab_type": "code",
        "colab": {}
      },
      "source": [
        ""
      ],
      "execution_count": 0,
      "outputs": []
    },
    {
      "cell_type": "code",
      "metadata": {
        "id": "2Txs9sZL7wXI",
        "colab_type": "code",
        "colab": {}
      },
      "source": [
        "!git clone https://github.com/invite-you/simplified_rbox_cnn.git"
      ],
      "execution_count": 0,
      "outputs": []
    },
    {
      "cell_type": "code",
      "metadata": {
        "id": "m0B-PnGP-ipu",
        "colab_type": "code",
        "outputId": "7577c7f4-9b3b-4360-c905-480a835e6722",
        "colab": {
          "base_uri": "https://localhost:8080/",
          "height": 35
        }
      },
      "source": [
        "cd simplified_rbox_cnn"
      ],
      "execution_count": 0,
      "outputs": [
        {
          "output_type": "stream",
          "text": [
            "/content/simplified_rbox_cnn\n"
          ],
          "name": "stdout"
        }
      ]
    },
    {
      "cell_type": "code",
      "metadata": {
        "id": "uD7T9LNh-iYm",
        "colab_type": "code",
        "colab": {}
      },
      "source": [
        "!python create_dataset.py --src_dir \"/content/gdrive/My Drive/findShip\" --dst_path \"/content/gdrive/My Drive/findShip/tfrecords/train_40p_w_img.tfrecords\""
      ],
      "execution_count": 0,
      "outputs": []
    },
    {
      "cell_type": "code",
      "metadata": {
        "id": "SsSUVWno7M_3",
        "colab_type": "code",
        "outputId": "c52eb704-a423-498a-966c-9e4b6e901625",
        "colab": {
          "base_uri": "https://localhost:8080/",
          "height": 197
        }
      },
      "source": [
        "ls -alth \"/content/gdrive/My Drive/findShip/\""
      ],
      "execution_count": 0,
      "outputs": [
        {
          "output_type": "stream",
          "text": [
            "total 20M\n",
            "-rw------- 1 root root 1.2M Jan 31 05:22 test.pickle\n",
            "-rw------- 1 root root 4.7M Jan 31 05:22 train.pickle\n",
            "drwx------ 2 root root 4.0K Jan 31 02:14 \u001b[0m\u001b[01;34mnotUsing\u001b[0m/\n",
            "drwx------ 2 root root 4.0K Jan 31 01:49 \u001b[01;34mpatch_images\u001b[0m/\n",
            "drwx------ 2 root root 4.0K Jan 22 23:45 \u001b[01;34mimages\u001b[0m/\n",
            "-rw------- 1 root root 2.8M Jan 22 06:33 test_labels.json\n",
            "-rw------- 1 root root  12M Jan 22 06:33 train_labels.json\n",
            "drwx------ 2 root root 4.0K Jan 22 06:32 \u001b[01;34mtfrecords\u001b[0m/\n",
            "drwx------ 2 root root 4.0K Jan 17 14:51 \u001b[01;34mmodels\u001b[0m/\n"
          ],
          "name": "stdout"
        }
      ]
    },
    {
      "cell_type": "code",
      "metadata": {
        "id": "E3vcG3g77Q8f",
        "colab_type": "code",
        "outputId": "211f1d27-e317-4cd7-e69d-3d024be4113f",
        "colab": {
          "base_uri": "https://localhost:8080/",
          "height": 1000
        }
      },
      "source": [
        "!python train.py --phi 4 --snapshot imagenet --workers 80 --batch-size 4 --random-transform --gpu 0 --compute-val-loss --freeze-backbone --snapshot-path \"/content/gdrive/My Drive/findShip/models\" pickle \"/content/gdrive/My Drive/findShip/train.pickle\" --val-annotations-path \"/content/gdrive/My Drive/findShip/test.pickle\""
      ],
      "execution_count": 0,
      "outputs": [
        {
          "output_type": "stream",
          "text": [
            "{'dataset_type': 'pickle', 'snapshot': 'imagenet', 'freeze_backbone': True, 'freeze_bn': False, 'weighted_bifpn': False, 'batch_size': 4, 'phi': 4, 'gpu': '0', 'num_gpus': 0, 'multi_gpu_force': False, 'epochs': 50, 'steps': 10000, 'snapshot_path': '/content/gdrive/My Drive/findShip/models', 'tensorboard_dir': 'logs/2020-01-31', 'snapshots': True, 'evaluation': True, 'random_transform': True, 'compute_val_loss': True, 'multiprocessing': False, 'workers': 80, 'max_queue_size': 10, 'annotations_path': '/content/gdrive/My Drive/findShip/train.pickle', 'val_annotations_path': '/content/gdrive/My Drive/findShip/test.pickle'}\n",
            "WARNING:tensorflow:From train.py:356: The name tf.keras.backend.set_session is deprecated. Please use tf.compat.v1.keras.backend.set_session instead.\n",
            "\n",
            "WARNING:tensorflow:From train.py:54: The name tf.ConfigProto is deprecated. Please use tf.compat.v1.ConfigProto instead.\n",
            "\n",
            "WARNING:tensorflow:From train.py:56: The name tf.Session is deprecated. Please use tf.compat.v1.Session instead.\n",
            "\n",
            "2020-01-31 09:16:07.307866: I tensorflow/core/platform/profile_utils/cpu_utils.cc:94] CPU Frequency: 2200000000 Hz\n",
            "2020-01-31 09:16:07.308130: I tensorflow/compiler/xla/service/service.cc:168] XLA service 0x1e40bc0 initialized for platform Host (this does not guarantee that XLA will be used). Devices:\n",
            "2020-01-31 09:16:07.308170: I tensorflow/compiler/xla/service/service.cc:176]   StreamExecutor device (0): Host, Default Version\n",
            "2020-01-31 09:16:07.310591: I tensorflow/stream_executor/platform/default/dso_loader.cc:44] Successfully opened dynamic library libcuda.so.1\n",
            "2020-01-31 09:16:07.410350: I tensorflow/stream_executor/cuda/cuda_gpu_executor.cc:983] successful NUMA node read from SysFS had negative value (-1), but there must be at least one NUMA node, so returning NUMA node zero\n",
            "2020-01-31 09:16:07.411006: I tensorflow/compiler/xla/service/service.cc:168] XLA service 0x1e40d80 initialized for platform CUDA (this does not guarantee that XLA will be used). Devices:\n",
            "2020-01-31 09:16:07.411037: I tensorflow/compiler/xla/service/service.cc:176]   StreamExecutor device (0): Tesla P100-PCIE-16GB, Compute Capability 6.0\n",
            "2020-01-31 09:16:07.411189: I tensorflow/stream_executor/cuda/cuda_gpu_executor.cc:983] successful NUMA node read from SysFS had negative value (-1), but there must be at least one NUMA node, so returning NUMA node zero\n",
            "2020-01-31 09:16:07.411721: I tensorflow/core/common_runtime/gpu/gpu_device.cc:1618] Found device 0 with properties: \n",
            "name: Tesla P100-PCIE-16GB major: 6 minor: 0 memoryClockRate(GHz): 1.3285\n",
            "pciBusID: 0000:00:04.0\n",
            "2020-01-31 09:16:07.411996: I tensorflow/stream_executor/platform/default/dso_loader.cc:44] Successfully opened dynamic library libcudart.so.10.1\n",
            "2020-01-31 09:16:07.413452: I tensorflow/stream_executor/platform/default/dso_loader.cc:44] Successfully opened dynamic library libcublas.so.10\n",
            "2020-01-31 09:16:07.414905: I tensorflow/stream_executor/platform/default/dso_loader.cc:44] Successfully opened dynamic library libcufft.so.10\n",
            "2020-01-31 09:16:07.415269: I tensorflow/stream_executor/platform/default/dso_loader.cc:44] Successfully opened dynamic library libcurand.so.10\n",
            "2020-01-31 09:16:07.416753: I tensorflow/stream_executor/platform/default/dso_loader.cc:44] Successfully opened dynamic library libcusolver.so.10\n",
            "2020-01-31 09:16:07.417485: I tensorflow/stream_executor/platform/default/dso_loader.cc:44] Successfully opened dynamic library libcusparse.so.10\n",
            "2020-01-31 09:16:07.420471: I tensorflow/stream_executor/platform/default/dso_loader.cc:44] Successfully opened dynamic library libcudnn.so.7\n",
            "2020-01-31 09:16:07.420571: I tensorflow/stream_executor/cuda/cuda_gpu_executor.cc:983] successful NUMA node read from SysFS had negative value (-1), but there must be at least one NUMA node, so returning NUMA node zero\n",
            "2020-01-31 09:16:07.421081: I tensorflow/stream_executor/cuda/cuda_gpu_executor.cc:983] successful NUMA node read from SysFS had negative value (-1), but there must be at least one NUMA node, so returning NUMA node zero\n",
            "2020-01-31 09:16:07.421585: I tensorflow/core/common_runtime/gpu/gpu_device.cc:1746] Adding visible gpu devices: 0\n",
            "2020-01-31 09:16:07.421642: I tensorflow/stream_executor/platform/default/dso_loader.cc:44] Successfully opened dynamic library libcudart.so.10.1\n",
            "2020-01-31 09:16:07.422655: I tensorflow/core/common_runtime/gpu/gpu_device.cc:1159] Device interconnect StreamExecutor with strength 1 edge matrix:\n",
            "2020-01-31 09:16:07.422680: I tensorflow/core/common_runtime/gpu/gpu_device.cc:1165]      0 \n",
            "2020-01-31 09:16:07.422690: I tensorflow/core/common_runtime/gpu/gpu_device.cc:1178] 0:   N \n",
            "2020-01-31 09:16:07.422789: I tensorflow/stream_executor/cuda/cuda_gpu_executor.cc:983] successful NUMA node read from SysFS had negative value (-1), but there must be at least one NUMA node, so returning NUMA node zero\n",
            "2020-01-31 09:16:07.423346: I tensorflow/stream_executor/cuda/cuda_gpu_executor.cc:983] successful NUMA node read from SysFS had negative value (-1), but there must be at least one NUMA node, so returning NUMA node zero\n",
            "2020-01-31 09:16:07.423855: I tensorflow/core/common_runtime/gpu/gpu_device.cc:1304] Created TensorFlow device (/job:localhost/replica:0/task:0/device:GPU:0 with 15216 MB memory) -> physical GPU (device: 0, name: Tesla P100-PCIE-16GB, pci bus id: 0000:00:04.0, compute capability: 6.0)\n",
            "Namespace(annotations_path='/content/gdrive/My Drive/findShip/train.pickle', batch_size=4, compute_val_loss=True, dataset_type='pickle', epochs=50, evaluation=True, freeze_backbone=True, freeze_bn=False, gpu='0', max_queue_size=10, multi_gpu_force=False, multiprocessing=False, num_gpus=0, phi=4, random_transform=True, snapshot='imagenet', snapshot_path='/content/gdrive/My Drive/findShip/models', snapshots=True, steps=10000, tensorboard_dir='logs/2020-01-31', val_annotations_path='/content/gdrive/My Drive/findShip/test.pickle', weighted_bifpn=False, workers=80)\n",
            "What??? small image\n",
            "What??? small image\n",
            "What??? small image\n",
            "What??? small image\n",
            "What??? small image\n",
            "## all dataset:  20542\n",
            "What??? small image\n",
            "What??? small image\n",
            "What??? small image\n",
            "What??? small image\n",
            "What??? small image\n",
            "What??? small image\n",
            "## all dataset:  5160\n",
            "WARNING:tensorflow:From /usr/local/lib/python3.6/dist-packages/tensorflow_core/python/util/deprecation.py:507: calling VarianceScaling.__init__ (from tensorflow.python.ops.init_ops) with distribution=normal is deprecated and will be removed in a future version.\n",
            "Instructions for updating:\n",
            "`normal` is a deprecated alias for `truncated_normal`\n",
            "WARNING:tensorflow:From /usr/local/lib/python3.6/dist-packages/tensorflow_core/python/ops/resource_variable_ops.py:1630: calling BaseResourceVariable.__init__ (from tensorflow.python.ops.resource_variable_ops) with constraint is deprecated and will be removed in a future version.\n",
            "Instructions for updating:\n",
            "If using Keras pass *_constraint arguments to layers.\n",
            "WARNING:tensorflow:From /content/EfficientDet-1/model.py:158: The name tf.keras.initializers.RandomNormal is deprecated. Please use tf.compat.v1.keras.initializers.RandomNormal instead.\n",
            "\n",
            "WARNING:tensorflow:From /usr/local/lib/python3.6/dist-packages/tensorflow_core/python/keras/initializers.py:143: calling RandomNormal.__init__ (from tensorflow.python.ops.init_ops) with dtype is deprecated and will be removed in a future version.\n",
            "Instructions for updating:\n",
            "Call initializer instance with the dtype argument instead of passing it to the constructor\n",
            "WARNING:tensorflow:From /content/EfficientDet-1/layers.py:202: where (from tensorflow.python.ops.array_ops) is deprecated and will be removed in a future version.\n",
            "Instructions for updating:\n",
            "Use tf.where in 2.0, which has the same broadcast rule as np.where\n",
            "Epoch 1/50\n",
            "2020-01-31 09:19:11.510705: I tensorflow/stream_executor/platform/default/dso_loader.cc:44] Successfully opened dynamic library libcudnn.so.7\n",
            "2020-01-31 09:19:15.918029: I tensorflow/stream_executor/platform/default/dso_loader.cc:44] Successfully opened dynamic library libcublas.so.10\n",
            "2020-01-31 09:19:19.225758: I tensorflow/core/profiler/lib/profiler_session.cc:205] Profiler session started.\n",
            "2020-01-31 09:19:19.226188: W tensorflow/stream_executor/platform/default/dso_loader.cc:55] Could not load dynamic library 'libcupti.so.10.1'; dlerror: libcupti.so.10.1: cannot open shared object file: No such file or directory; LD_LIBRARY_PATH: /usr/local/cuda/extras/CUPTI/lib64:/usr/lib64-nvidia\n",
            "2020-01-31 09:19:19.226379: W tensorflow/core/profiler/lib/profiler_session.cc:213] Encountered error while starting profiler: Unavailable: CUPTI error: CUPTI could not be loaded or symbol could not be found.\n",
            "    1/10000 [..............................] - ETA: 54:09:30 - loss: 3.0028 - regression_loss: 2.9117 - classification_loss: 0.09112020-01-31 09:19:19.910770: I tensorflow/core/platform/default/device_tracer.cc:588] Collecting 0 kernel records, 0 memcpy records.\n",
            "2020-01-31 09:19:19.911308: E tensorflow/core/platform/default/device_tracer.cc:70] CUPTI error: CUPTI could not be loaded or symbol could not be found.\n",
            " 9999/10000 [============================>.] - ETA: 0s - loss: 2.4218 - regression_loss: 2.1532 - classification_loss: 0.2685Epoch 1/50\n",
            "Running network: 100% (5160 of 5160) |####| Elapsed Time: 0:21:45 Time:  0:21:45\n",
            "Parsing annotations: 100% (5160 of 5160) || Elapsed Time: 0:00:00 Time:  0:00:00\n",
            "num_fp=0, num_tp=0\n",
            "0 instances of class container with average precision: 0.0000\n",
            "1614 instances of class oil tanker with average precision: 0.0000\n",
            "421 instances of class aircraft carrier with average precision: 0.0000\n",
            "10 instances of class maritime vessels with average precision: 0.0000\n",
            "WARNING:tensorflow:From /content/EfficientDet-1/eval/pascal.py:94: The name tf.Summary is deprecated. Please use tf.compat.v1.Summary instead.\n",
            "\n",
            "mAP: 0.0000\n",
            "\n",
            "Epoch 00001: saving model to /content/gdrive/My Drive/findShip/models/pickle_01_2.4219_2.4433.h5\n",
            "10000/10000 [==============================] - 9594s 959ms/step - loss: 2.4219 - regression_loss: 2.1533 - classification_loss: 0.2686 - val_loss: 2.4433 - val_regression_loss: 2.1489 - val_classification_loss: 0.2943\n",
            "Epoch 2/50\n",
            " 7491/10000 [=====================>........] - ETA: 31:31 - loss: 2.3883 - regression_loss: 2.1236 - classification_loss: 0.2646"
          ],
          "name": "stdout"
        }
      ]
    },
    {
      "cell_type": "code",
      "metadata": {
        "id": "6mT9md-GP9sh",
        "colab_type": "code",
        "colab": {}
      },
      "source": [
        "!python train.py --phi 4 --snapshot imagenet --workers 300 --batch-size 4 --random-transform --compute-val-loss --freeze-backbone --snapshot-path \"/content/gdrive/My Drive/findShip/models\" pickle \"/content/gdrive/My Drive/findShip/train.pickle\" --val-annotations-path \"/content/gdrive/My Drive/findShip/test.pickle\""
      ],
      "execution_count": 0,
      "outputs": []
    },
    {
      "cell_type": "code",
      "metadata": {
        "id": "EwmjH_HOGfrc",
        "colab_type": "code",
        "colab": {}
      },
      "source": [
        "from selenium import webdriver\n",
        "from selenium.webdriver.chrome.options import Options\n",
        "from selenium.webdriver.support.ui import Select\n",
        "from selenium.common.exceptions import NoAlertPresentException, NoSuchElementException, WebDriverException\n",
        "from selenium.webdriver.common.by import By\n",
        "from time import sleep\n",
        "from selenium.webdriver.common.alert import Alert\n",
        "from selenium.webdriver.support.ui import WebDriverWait\n",
        "from selenium.webdriver.support import expected_conditions as EC\n",
        "\n",
        "from selenium.common.exceptions import TimeoutException\n",
        "\n",
        "import random\n",
        "from time import sleep\n",
        "\n",
        "def refresh_with_alert(driver):\n",
        "    # wrap this in try / except so the whole code does not fail if alert is not present\n",
        "    try: \n",
        "        # attempt to refresh\n",
        "        driver.refresh()\n",
        "        # wait until alert is present\n",
        "        random_interval = random.randint(1, 4)\n",
        "        sleep(random_interval)\n",
        "        WebDriverWait(driver, 5).until(EC.alert_is_present())\n",
        "        # switch to alert and accept it\n",
        "        driver.switch_to.alert.accept()\n",
        "    except TimeoutException:\n",
        "        print(\"No alert was present.\")\n",
        "\n",
        "chrome_options = Options()\n",
        "chrome_options.binary_location = r\"C:\\Program Files (x86)\\Google\\Chrome Beta\\Application\\chrome.exe\"\n",
        "chrome_options.add_argument(\"--disable-popup-blocking\")\n",
        "#chrome_options.add_argument(\"test-type\")\n",
        "\n",
        "urlDir = r\"C:\\chromedriver.exe\"\n",
        "driver = webdriver.Chrome(urlDir, chrome_options=chrome_options)\n",
        "\n",
        "\n",
        "colab = \"https://colab.research.google.com/\"\n",
        "driver.get(colab)\n",
        "\n",
        "while True:\n",
        "    random_interval = random.randint(1200, 1560)\n",
        "    sleep(random_interval)\n",
        "    refresh_with_alert(driver)"
      ],
      "execution_count": 0,
      "outputs": []
    }
  ]
}
